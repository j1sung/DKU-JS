{
 "cells": [
  {
   "cell_type": "markdown",
   "id": "b99d6f9d",
   "metadata": {},
   "source": [
    "# Series\n",
    "\n",
    "### 1-1 딕셔너리를 시리즈로 변환\n",
    "**`\n",
    "k:v' 구조를 갖는 딕셔너리를 정의하여 변수 dict_data에 저장한다.\n",
    "변수 dict_data에 저장되어 있는 딕셔너리를 Series() 함수의 인자로 전달하면, 시리즈로 변환한다.\n",
    "Series() 함수가 반환한 시리즈 객체를 변수 sr에 저장한다.\n",
    "`**"
   ]
  },
  {
   "cell_type": "code",
   "execution_count": 2,
   "id": "1c51a8d9",
   "metadata": {},
   "outputs": [],
   "source": [
    "# pandas 불러오기\n",
    "import pandas as pd"
   ]
  },
  {
   "cell_type": "code",
   "execution_count": 3,
   "id": "1cf66935",
   "metadata": {},
   "outputs": [
    {
     "name": "stdout",
     "output_type": "stream",
     "text": [
      "<class 'pandas.core.series.Series'>\n"
     ]
    }
   ],
   "source": [
    "# key;value 쌍으로 딕셔너리를 만들고, 변수 dict_data에 저장\n",
    "dict_data = {'a': 1, 'b': 2, 'c': 3}\n",
    "\n",
    "# 판다스 Series() 함수로 dictionary를 Series로 변환, 변수 sr에 저장\n",
    "sr = pd.Series(dict_data)\n",
    "\n",
    "# sr의 자료형 출력\n",
    "print(type(sr))"
   ]
  },
  {
   "cell_type": "code",
   "execution_count": 4,
   "id": "b9900af2",
   "metadata": {},
   "outputs": [
    {
     "name": "stdout",
     "output_type": "stream",
     "text": [
      "a    1\n",
      "b    2\n",
      "c    3\n",
      "dtype: int64\n"
     ]
    }
   ],
   "source": [
    "# 변수 sr에 저장되어 있는 시리즈 객체들 출력\n",
    "print(sr)"
   ]
  },
  {
   "cell_type": "markdown",
   "id": "c24f8754",
   "metadata": {},
   "source": [
    "### 1-2 리스트를 시리즈로 변환 \n",
    "#### ① 시리즈 인덱스\n",
    "\n",
    "**`\n",
    "파이썬 리스트를 시리즈로 변환해 본다. 단, 딕셔너리의 키처럼 인덱스로 변환될 값이 없다. \n",
    "따라서, 인덱스를 별도로 정의하지 않으면, 디폴트로 정수형 위치 인덱스(0,1,2, ...)가 자동 지정된다.\n",
    "밑의 코드에서는 0 ~ 4 범위의 정수값이 인덱스로 지정된다.\n",
    "`**\n"
   ]
  },
  {
   "cell_type": "code",
   "execution_count": 5,
   "id": "25def8bc",
   "metadata": {},
   "outputs": [
    {
     "name": "stdout",
     "output_type": "stream",
     "text": [
      "0    2021-09-16\n",
      "1          3.14\n",
      "2           ABC\n",
      "3           100\n",
      "4          True\n",
      "dtype: object\n"
     ]
    }
   ],
   "source": [
    "# 리스트를 시리즈로 변환하여 변수 sr에 저장\n",
    "list_data = ['2021-09-16', 3.14, 'ABC', 100, True]\n",
    "\n",
    "sr = pd.Series(list_data)\n",
    "\n",
    "print(sr)"
   ]
  },
  {
   "cell_type": "markdown",
   "id": "b2f85146",
   "metadata": {},
   "source": [
    "#### ② 인덱스 vs. 데이터 값 배열 확인하기\n",
    "**`\n",
    "시리즈의 index 속성과 values 속성을 이용하면, 인덱스 배열과 데이터 값의 배열을 불러올 수 있다.\n",
    "`**"
   ]
  },
  {
   "cell_type": "code",
   "execution_count": 6,
   "id": "6316c7ee",
   "metadata": {},
   "outputs": [
    {
     "name": "stdout",
     "output_type": "stream",
     "text": [
      "RangeIndex(start=0, stop=5, step=1)\n"
     ]
    }
   ],
   "source": [
    "idx = sr.index\n",
    "val = sr.values\n",
    "print(idx)"
   ]
  },
  {
   "cell_type": "code",
   "execution_count": 7,
   "id": "e28ab3fd",
   "metadata": {},
   "outputs": [
    {
     "name": "stdout",
     "output_type": "stream",
     "text": [
      "['2021-09-16' 3.14 'ABC' 100 True]\n"
     ]
    }
   ],
   "source": [
    "print(val)"
   ]
  },
  {
   "cell_type": "markdown",
   "id": "5024b169",
   "metadata": {},
   "source": [
    "### 1-3 튜플을 시리즈로 변환 \n",
    "#### ①시리즈 생성\n",
    "**`\n",
    "정수형 위치 인덱스 대신에 인덱스 이름을 따로 지정할 수 있다.\n",
    "Series() 함수의 index 옵션에 인덱스 이름을 리스트 형태로 직접 전달하는 방식이다.\n",
    "`**"
   ]
  },
  {
   "cell_type": "code",
   "execution_count": 8,
   "id": "df21718d",
   "metadata": {},
   "outputs": [
    {
     "name": "stdout",
     "output_type": "stream",
     "text": [
      "이름              지성\n",
      "날짜      2021-09-16\n",
      "성별               남\n",
      "학생여부          True\n",
      "dtype: object\n"
     ]
    }
   ],
   "source": [
    "# 투플을 시리즈로 변환(인덱스 옵션 지정)\n",
    "tup_data = ('지성', '2021-09-16', '남', True)\n",
    "\n",
    "sr = pd.Series(tup_data, index = ['이름', '날짜', '성별', '학생여부']) \n",
    "\n",
    "print(sr)"
   ]
  },
  {
   "cell_type": "markdown",
   "id": "f4aa45f8",
   "metadata": {},
   "source": [
    "#### ② 원소 1개 선택"
   ]
  },
  {
   "cell_type": "code",
   "execution_count": 9,
   "id": "a017085e",
   "metadata": {},
   "outputs": [
    {
     "name": "stdout",
     "output_type": "stream",
     "text": [
      "지성\n"
     ]
    }
   ],
   "source": [
    "print(sr[0])"
   ]
  },
  {
   "cell_type": "code",
   "execution_count": 10,
   "id": "4f8cc187",
   "metadata": {},
   "outputs": [
    {
     "name": "stdout",
     "output_type": "stream",
     "text": [
      "지성\n"
     ]
    }
   ],
   "source": [
    "print(sr['이름'])"
   ]
  },
  {
   "cell_type": "markdown",
   "id": "bd8665b8",
   "metadata": {},
   "source": [
    "#### ③ 여러 개의 원소를 선택(인덱스 리스트 활용) \n",
    "**`\n",
    "정수형 위치 인덱스는 0부터 시작하기 때문에 2번째 인덱스 이름인 '생년월일'은 정수형 인덱스 1을 사용하고, 3번째 인덱스 이름인 '성별'은 정수형 인덱스 2를 사용한다.\n",
    "`**"
   ]
  },
  {
   "cell_type": "code",
   "execution_count": 11,
   "id": "fb44df11",
   "metadata": {},
   "outputs": [
    {
     "name": "stdout",
     "output_type": "stream",
     "text": [
      "날짜    2021-09-16\n",
      "성별             남\n",
      "dtype: object\n",
      "날짜    2021-09-16\n",
      "성별             남\n",
      "dtype: object\n"
     ]
    }
   ],
   "source": [
    "# 인덱스 리스트 활용\n",
    "print(sr[[1,2]])\n",
    "print(sr[['날짜', '성별']])"
   ]
  },
  {
   "cell_type": "markdown",
   "id": "5f5ef1a3",
   "metadata": {},
   "source": [
    "#### ④ 여러 개의 원소를 선택(인덱스 범위 지정)\n",
    "**`\n",
    "sr[1:2]에서 정수형 위치 인덱스를 사용할 때는, 범위의 끝이 포함되지 않는다.('성별' 불포함)\n",
    "그러나, sr['생년월일':'성별']과 같이, 인덱스 이름을 사용하면 범위의 끝('성별')이 포함된다.\n",
    "`**\n"
   ]
  },
  {
   "cell_type": "code",
   "execution_count": 12,
   "id": "6cc08507",
   "metadata": {},
   "outputs": [
    {
     "name": "stdout",
     "output_type": "stream",
     "text": [
      "날짜    2021-09-16\n",
      "dtype: object\n"
     ]
    }
   ],
   "source": [
    "# 기본 슬라이싱은 뒤의 인덱스 값은 포함 X\n",
    "print(sr[1:2])"
   ]
  },
  {
   "cell_type": "code",
   "execution_count": 13,
   "id": "471fecd2",
   "metadata": {},
   "outputs": [
    {
     "name": "stdout",
     "output_type": "stream",
     "text": [
      "날짜    2021-09-16\n",
      "성별             남\n",
      "dtype: object\n"
     ]
    }
   ],
   "source": [
    "# 인덱스 이름으로 쓰면 슬라이싱 할 때 뒤에 쓴 이름까지 포함\n",
    "print(sr['날짜' : '성별'])"
   ]
  },
  {
   "cell_type": "markdown",
   "id": "cf2c9b8f",
   "metadata": {},
   "source": [
    "# DataFrame\n",
    "### 1-4 DataFrame 생성하기"
   ]
  },
  {
   "cell_type": "markdown",
   "id": "2b2c823a",
   "metadata": {},
   "source": [
    "**`\n",
    "원소 3개씩 담고 있는 리스트를 5개 만든다. 이들 5개의 리스트를 원소로 갖는 딕셔너리를 정의하고, 판다스 DataFrame() 함수에 전달하면 5개의 열을 갖는 데이터프레임을 만든다. \n",
    "이때, 딕셔너리의 키(k)가 열 이름(c0 ~ c4)이 되고, 값(v)에 해당하는 각 리스트가 데이터프레임의 열이 된다. \n",
    "행 인덱스에는 정수형 위치 인덱스(0, 1, 2)가 자동 지정된다.\n",
    "`**"
   ]
  },
  {
   "cell_type": "code",
   "execution_count": 14,
   "id": "1bc60a6c",
   "metadata": {},
   "outputs": [],
   "source": [
    "# 열이름을 key로 하고, 리스트를 value로 갖는 딕셔너리 정의(2차원 배열)\n",
    "dict_data = {'c0':[1,2,3], 'c1':[4,5,6], 'c2':[7,8,9], 'c3':[10,11,12], 'c4':[13,14,15]}"
   ]
  },
  {
   "cell_type": "code",
   "execution_count": 15,
   "id": "ee04f38e",
   "metadata": {},
   "outputs": [
    {
     "name": "stdout",
     "output_type": "stream",
     "text": [
      "<class 'pandas.core.frame.DataFrame'>\n",
      "   c0  c1  c2  c3  c4\n",
      "0   1   4   7  10  13\n",
      "1   2   5   8  11  14\n",
      "2   3   6   9  12  15\n"
     ]
    }
   ],
   "source": [
    "df = pd.DataFrame(dict_data)\n",
    "\n",
    "print(type(df))\n",
    "print(df)"
   ]
  },
  {
   "cell_type": "markdown",
   "id": "2c94824d",
   "metadata": {},
   "source": [
    "### 1-5 행 인덱스/열 이름 지정하여 데이터 프레임 만들기\n",
    "#### ① 데이터프레임을 만들 때 설정\n",
    "**`\n",
    "'3개의 원소를 갖는 리스트' 2개를 원소로 갖는 리스트(2차원 배열)로 데이터프레임을 만든다. \n",
    "이때, 각 리스트가 행으로 변환되는 점에 유의한다. \n",
    "• index 옵션:  ['준서', '예은'] 배열을 지정\n",
    "• columns 옵션:  ['나이', '성별', '학교'] 배열을 지정\n",
    "`**"
   ]
  },
  {
   "cell_type": "code",
   "execution_count": 16,
   "id": "b9931782",
   "metadata": {},
   "outputs": [
    {
     "name": "stdout",
     "output_type": "stream",
     "text": [
      "    나이 성별   학교\n",
      "지성  21  남  단국대\n",
      "다은  22  여  단국대\n"
     ]
    }
   ],
   "source": [
    "df = pd.DataFrame([[21, '남', '단국대'], [22, '여', '단국대']],\n",
    "                   index=['지성', '다은'],\n",
    "                   columns=['나이','성별','학교'])\n",
    "\n",
    "print(df)"
   ]
  },
  {
   "cell_type": "code",
   "execution_count": 17,
   "id": "626e58ea",
   "metadata": {},
   "outputs": [
    {
     "name": "stdout",
     "output_type": "stream",
     "text": [
      "Index(['지성', '다은'], dtype='object')\n",
      "Index(['나이', '성별', '학교'], dtype='object')\n"
     ]
    }
   ],
   "source": [
    "print(df.index)\n",
    "print(df.columns)"
   ]
  },
  {
   "cell_type": "markdown",
   "id": "ae4e5085",
   "metadata": {},
   "source": [
    "#### ② 속성을 지정하여 변경하기\n",
    "**`\n",
    "데이터프레임 df의 행 인덱스 배열을 나타내는 df.index와 열 이름 배열을 나타내는 df.columns에 새로운 배열을 할당하는 방식으로, 행 인덱스와 열 이름을 변경할 수 있다.\n",
    "`**"
   ]
  },
  {
   "cell_type": "code",
   "execution_count": 18,
   "id": "4be0f844",
   "metadata": {},
   "outputs": [
    {
     "name": "stdout",
     "output_type": "stream",
     "text": [
      "      나이 성별   학교\n",
      "std1  21  남  단국대\n",
      "std2  22  여  단국대\n"
     ]
    }
   ],
   "source": [
    "df.index = ['std1', 'std2']\n",
    "\n",
    "print(df)"
   ]
  },
  {
   "cell_type": "code",
   "execution_count": 19,
   "id": "067a6be3",
   "metadata": {},
   "outputs": [
    {
     "name": "stdout",
     "output_type": "stream",
     "text": [
      "      연령 남녀   소속\n",
      "std1  21  남  단국대\n",
      "std2  22  여  단국대\n"
     ]
    }
   ],
   "source": [
    "df.columns = ['연령', '남녀', '소속']\n",
    "\n",
    "print(df)"
   ]
  },
  {
   "cell_type": "markdown",
   "id": "eba1f516",
   "metadata": {},
   "source": [
    "### 1-6\n",
    "#### ④ rename 메소드 사용\n",
    "**`\n",
    "rename() 메소드를 적용하면, 행 인덱스 또는 열 이름의 일부를 선택하여 변경 가능. \n",
    "단, 원본 객체를 직접 수정하는 것이 아니라 새로운 데이터프레임 객체를 반환하는 점 유의~!\n",
    "원본 객체를 변경하려면, inplace=True 옵션을 사용.\n",
    "`**"
   ]
  },
  {
   "cell_type": "code",
   "execution_count": 20,
   "id": "3e790ce0",
   "metadata": {},
   "outputs": [
    {
     "name": "stdout",
     "output_type": "stream",
     "text": [
      "      나이 성별   학교\n",
      "std1  21  남  단국대\n",
      "std2  22  여  단국대\n"
     ]
    }
   ],
   "source": [
    "df.rename(columns={'연령':'나이', '남녀':'성별', '소속':'학교'}, inplace=True)\n",
    "\n",
    "print(df)"
   ]
  },
  {
   "cell_type": "markdown",
   "id": "ccc11435",
   "metadata": {},
   "source": [
    "##  행/열 삭제\n",
    "### 1-7 행 삭제"
   ]
  },
  {
   "cell_type": "code",
   "execution_count": 21,
   "id": "a5478499",
   "metadata": {},
   "outputs": [],
   "source": [
    "# DataFrame() 함수로 데이터프레임 변환, 변수 df에 저장\n",
    "exam_data = {'수학' : [ 90, 80, 70 ], '영어' : [ 98, 89, 95 ],\n",
    "            '음악' : [ 85, 95, 100 ], '체육' : [ 100, 90, 90 ]}"
   ]
  },
  {
   "cell_type": "code",
   "execution_count": 22,
   "id": "f881d8f5",
   "metadata": {},
   "outputs": [
    {
     "name": "stdout",
     "output_type": "stream",
     "text": [
      "    수학  영어   음악   체육\n",
      "지성  90  98   85  100\n",
      "다은  80  89   95   90\n",
      "뽀송  70  95  100   90\n"
     ]
    }
   ],
   "source": [
    "df = pd.DataFrame(exam_data, index=['지성', '다은', '뽀송'])\n",
    "print(df)"
   ]
  },
  {
   "cell_type": "code",
   "execution_count": 23,
   "id": "5bfe9795",
   "metadata": {},
   "outputs": [],
   "source": [
    "df2 = df[:]"
   ]
  },
  {
   "cell_type": "code",
   "execution_count": 24,
   "id": "287c156f",
   "metadata": {},
   "outputs": [
    {
     "name": "stdout",
     "output_type": "stream",
     "text": [
      "    수학  영어   음악   체육\n",
      "지성  90  98   85  100\n",
      "다은  80  89   95   90\n",
      "뽀송  70  95  100   90\n"
     ]
    }
   ],
   "source": [
    "print(df2)"
   ]
  },
  {
   "cell_type": "code",
   "execution_count": 25,
   "id": "9c661735",
   "metadata": {},
   "outputs": [
    {
     "name": "stderr",
     "output_type": "stream",
     "text": [
      "C:\\Python39\\lib\\site-packages\\pandas\\core\\frame.py:4906: SettingWithCopyWarning: \n",
      "A value is trying to be set on a copy of a slice from a DataFrame\n",
      "\n",
      "See the caveats in the documentation: https://pandas.pydata.org/pandas-docs/stable/user_guide/indexing.html#returning-a-view-versus-a-copy\n",
      "  return super().drop(\n"
     ]
    }
   ],
   "source": [
    "df2.drop('뽀송', inplace=True)"
   ]
  },
  {
   "cell_type": "code",
   "execution_count": 26,
   "id": "c8d22293",
   "metadata": {},
   "outputs": [
    {
     "data": {
      "text/html": [
       "<div>\n",
       "<style scoped>\n",
       "    .dataframe tbody tr th:only-of-type {\n",
       "        vertical-align: middle;\n",
       "    }\n",
       "\n",
       "    .dataframe tbody tr th {\n",
       "        vertical-align: top;\n",
       "    }\n",
       "\n",
       "    .dataframe thead th {\n",
       "        text-align: right;\n",
       "    }\n",
       "</style>\n",
       "<table border=\"1\" class=\"dataframe\">\n",
       "  <thead>\n",
       "    <tr style=\"text-align: right;\">\n",
       "      <th></th>\n",
       "      <th>수학</th>\n",
       "      <th>영어</th>\n",
       "      <th>음악</th>\n",
       "      <th>체육</th>\n",
       "    </tr>\n",
       "  </thead>\n",
       "  <tbody>\n",
       "    <tr>\n",
       "      <th>다은</th>\n",
       "      <td>80</td>\n",
       "      <td>89</td>\n",
       "      <td>95</td>\n",
       "      <td>90</td>\n",
       "    </tr>\n",
       "  </tbody>\n",
       "</table>\n",
       "</div>"
      ],
      "text/plain": [
       "    수학  영어  음악  체육\n",
       "다은  80  89  95  90"
      ]
     },
     "execution_count": 26,
     "metadata": {},
     "output_type": "execute_result"
    }
   ],
   "source": [
    "df2.drop('지성')"
   ]
  },
  {
   "cell_type": "code",
   "execution_count": 27,
   "id": "655606a6",
   "metadata": {},
   "outputs": [
    {
     "name": "stdout",
     "output_type": "stream",
     "text": [
      "    수학  영어  음악   체육\n",
      "지성  90  98  85  100\n",
      "다은  80  89  95   90\n"
     ]
    }
   ],
   "source": [
    "print(df2)"
   ]
  },
  {
   "cell_type": "markdown",
   "id": "27aa2db6",
   "metadata": {},
   "source": [
    "### 1-8 열 삭제"
   ]
  },
  {
   "cell_type": "code",
   "execution_count": 28,
   "id": "a7ca461f",
   "metadata": {},
   "outputs": [],
   "source": [
    "df3 = df[:]\n",
    "df4 = df[:]"
   ]
  },
  {
   "cell_type": "code",
   "execution_count": 29,
   "id": "125e8298",
   "metadata": {},
   "outputs": [
    {
     "name": "stderr",
     "output_type": "stream",
     "text": [
      "C:\\Python39\\lib\\site-packages\\pandas\\core\\frame.py:4906: SettingWithCopyWarning: \n",
      "A value is trying to be set on a copy of a slice from a DataFrame\n",
      "\n",
      "See the caveats in the documentation: https://pandas.pydata.org/pandas-docs/stable/user_guide/indexing.html#returning-a-view-versus-a-copy\n",
      "  return super().drop(\n"
     ]
    }
   ],
   "source": [
    "df3.drop('수학', axis=1, inplace=True)"
   ]
  },
  {
   "cell_type": "code",
   "execution_count": 30,
   "id": "2e29337e",
   "metadata": {},
   "outputs": [
    {
     "name": "stdout",
     "output_type": "stream",
     "text": [
      "    영어   음악   체육\n",
      "지성  98   85  100\n",
      "다은  89   95   90\n",
      "뽀송  95  100   90\n"
     ]
    }
   ],
   "source": [
    "print(df3)"
   ]
  },
  {
   "cell_type": "code",
   "execution_count": 31,
   "id": "a8bdc943",
   "metadata": {},
   "outputs": [
    {
     "name": "stderr",
     "output_type": "stream",
     "text": [
      "C:\\Python39\\lib\\site-packages\\pandas\\core\\frame.py:4906: SettingWithCopyWarning: \n",
      "A value is trying to be set on a copy of a slice from a DataFrame\n",
      "\n",
      "See the caveats in the documentation: https://pandas.pydata.org/pandas-docs/stable/user_guide/indexing.html#returning-a-view-versus-a-copy\n",
      "  return super().drop(\n"
     ]
    }
   ],
   "source": [
    "df4.drop(['영어','음악'], axis=1, inplace=True)"
   ]
  },
  {
   "cell_type": "code",
   "execution_count": 32,
   "id": "cb8c3187",
   "metadata": {},
   "outputs": [
    {
     "name": "stdout",
     "output_type": "stream",
     "text": [
      "    수학   체육\n",
      "지성  90  100\n",
      "다은  80   90\n",
      "뽀송  70   90\n"
     ]
    }
   ],
   "source": [
    "print(df4)"
   ]
  },
  {
   "cell_type": "markdown",
   "id": "4fc1c21b",
   "metadata": {},
   "source": [
    "### 1-9 행 선택\n",
    "#### ① 1개의 행 선택\n",
    "**`\n",
    "데이터프레임의 첫 번째 행에는 '지성' 학생의 과목별 점수 데이터가 입력되어 있다. \n",
    "'지성' 학생의 과목별 점수 데이터를 행으로 추출하면 시리즈 객체가 반환된다. \n",
    "loc 인덱서를 이용하려면 '지성'이라는 인덱스 이름을 직접 입력하고, iloc을 이용할 때는 첫 번째 정수형 위치를 나타내는 0을 입력한다. \n",
    "각각 반환되는 값을 label1 변수와 position1 변수에 저장, 출력하면 같은 결과를 갖는다.\n",
    "`**"
   ]
  },
  {
   "cell_type": "code",
   "execution_count": 33,
   "id": "0ab666a2",
   "metadata": {},
   "outputs": [
    {
     "name": "stdout",
     "output_type": "stream",
     "text": [
      "수학     90\n",
      "영어     98\n",
      "음악     85\n",
      "체육    100\n",
      "Name: 지성, dtype: int64\n"
     ]
    }
   ],
   "source": [
    "label1 = df.loc['지성']\n",
    "position1 = df.iloc[0]\n",
    "print(label1)"
   ]
  },
  {
   "cell_type": "code",
   "execution_count": 34,
   "id": "2b2df769",
   "metadata": {},
   "outputs": [
    {
     "name": "stdout",
     "output_type": "stream",
     "text": [
      "수학     90\n",
      "영어     98\n",
      "음악     85\n",
      "체육    100\n",
      "Name: 지성, dtype: int64\n"
     ]
    }
   ],
   "source": [
    "print(position1)"
   ]
  },
  {
   "cell_type": "markdown",
   "id": "2b12e363",
   "metadata": {},
   "source": [
    "#### ② 여러 개의 행을 선택(인덱스 리스트 활용)\n",
    "**`\n",
    "2개 이상의 행 인덱스를 배열로 입력하면, 매칭되는 모든 행 데이터를 동시에 추출한다. \n",
    "데이터프레임 df의 첫번째와 두번째 행에 있는 '지성', '다은' 학생을 인덱싱으로 선택해 본다. \n",
    "loc 인덱서는 ['지성', '다은'] 과 같이 인덱스 이름을 배열로 전달하고, iloc을 이용할 때는 [0, 1] 과 같이 정수형 위치를 전달한다.\n",
    "이때, label2 변수와 position2 변수에 저장된 값은 같다.\n",
    "`**"
   ]
  },
  {
   "cell_type": "code",
   "execution_count": 35,
   "id": "d1fee5a4",
   "metadata": {},
   "outputs": [
    {
     "name": "stdout",
     "output_type": "stream",
     "text": [
      "    수학  영어  음악   체육\n",
      "지성  90  98  85  100\n",
      "다은  80  89  95   90\n"
     ]
    }
   ],
   "source": [
    "# 행 인덱스를 사용하여 2개 이상의 행 선택\n",
    " \n",
    "label2 = df.loc[['지성', '다은']]\n",
    "position2 = df.iloc[[0,1]]\n",
    "\n",
    "print(label2)"
   ]
  },
  {
   "cell_type": "code",
   "execution_count": 36,
   "id": "ebaeb8b9",
   "metadata": {},
   "outputs": [
    {
     "name": "stdout",
     "output_type": "stream",
     "text": [
      "    수학  영어  음악   체육\n",
      "지성  90  98  85  100\n",
      "다은  80  89  95   90\n"
     ]
    }
   ],
   "source": [
    "print(position2)"
   ]
  },
  {
   "cell_type": "markdown",
   "id": "93bd0dbf",
   "metadata": {},
   "source": [
    "#### ③ 여러 개의 원소를 선택(인덱스 범위 지정)\n",
    "**`\n",
    "행 인덱스의 범위를 지정하여 여러 개의 행을 동시에 선택하는 슬라이싱 기법을 사용한다. \n",
    "단, 인덱스 이름을 범위로 지정한 label3의 경우에는 범위의 마지막 값인 '뽀송' 학생의 점수가 포함 되지만, 정수형 위치 인덱스를 사용한 position3에는 범위의 마지막 값인 '뽀송' 학생의 점수가 제외된다.\n",
    "`**"
   ]
  },
  {
   "cell_type": "code",
   "execution_count": 37,
   "id": "4b12c373",
   "metadata": {},
   "outputs": [
    {
     "name": "stdout",
     "output_type": "stream",
     "text": [
      "    수학  영어   음악   체육\n",
      "지성  90  98   85  100\n",
      "다은  80  89   95   90\n",
      "뽀송  70  95  100   90\n"
     ]
    }
   ],
   "source": [
    "# 행 인덱스의 범위를 지정하여 행 선택\n",
    "\n",
    "label3 = df.loc['지성' : '뽀송']\n",
    "position3 = df.iloc[0:2]\n",
    "\n",
    "print(label3)"
   ]
  },
  {
   "cell_type": "code",
   "execution_count": 38,
   "id": "cb68537b",
   "metadata": {},
   "outputs": [
    {
     "name": "stdout",
     "output_type": "stream",
     "text": [
      "    수학  영어  음악   체육\n",
      "지성  90  98  85  100\n",
      "다은  80  89  95   90\n"
     ]
    }
   ],
   "source": [
    "print(position3)"
   ]
  },
  {
   "cell_type": "markdown",
   "id": "8d7a2ca7",
   "metadata": {},
   "source": [
    "### 1-10 열 선택\n",
    "#### ① 1개의 열 선택\n",
    "**`\n",
    "type( ) 함수를 사용하여, 데이터프레임에서 1개의 열을 선택할 때 반환되는 객체의 자료형을 확인하면 시리즈이다.\n",
    "`**"
   ]
  },
  {
   "cell_type": "code",
   "execution_count": 39,
   "id": "a68d05c2",
   "metadata": {},
   "outputs": [
    {
     "name": "stdout",
     "output_type": "stream",
     "text": [
      "   이름  수학  영어   음악   체육\n",
      "0  지성  90  98   85  100\n",
      "1  다은  80  89   95   90\n",
      "2  뽀송  70  95  100   90\n",
      "<class 'pandas.core.frame.DataFrame'>\n"
     ]
    }
   ],
   "source": [
    "# DataFrame() 함수로 데이터프레임 변환, 변수 df에 저장\n",
    "exam_data = {'이름' : ['지성', '다은', '뽀송'],\n",
    "             '수학' : [ 90, 80, 70 ],\n",
    "             '영어' : [ 98, 89, 95 ],\n",
    "             '음악' : [ 85, 95, 100 ],\n",
    "             '체육' : [ 100, 90, 90 ]}\n",
    "df = pd.DataFrame(exam_data)\n",
    "\n",
    "print(df)\n",
    "print(type(df))"
   ]
  },
  {
   "cell_type": "code",
   "execution_count": 40,
   "id": "4b3bc830",
   "metadata": {},
   "outputs": [
    {
     "name": "stdout",
     "output_type": "stream",
     "text": [
      "0    90\n",
      "1    80\n",
      "2    70\n",
      "Name: 수학, dtype: int64\n",
      "<class 'pandas.core.series.Series'>\n"
     ]
    }
   ],
   "source": [
    "# '수학' 점수 데이터만 선택, 변수 math1에 저장\n",
    "math1 = df['수학']\n",
    "print(math1)\n",
    "print(type(math1))"
   ]
  },
  {
   "cell_type": "code",
   "execution_count": 41,
   "id": "7dfb3a83",
   "metadata": {},
   "outputs": [
    {
     "name": "stdout",
     "output_type": "stream",
     "text": [
      "0    98\n",
      "1    89\n",
      "2    95\n",
      "Name: 영어, dtype: int64\n",
      "<class 'pandas.core.series.Series'>\n"
     ]
    }
   ],
   "source": [
    "# '영어' 점수 데이터만 선택, 변수 english에 저장\n",
    "eng = df.영어\n",
    "print(eng)\n",
    "print(type(eng))"
   ]
  },
  {
   "cell_type": "markdown",
   "id": "2c72f0dd",
   "metadata": {},
   "source": [
    "#### ② n개의 열 선택(리스트 입력)\n",
    "**`\n",
    "대괄호 안에 열 이름의 리스트를 입력하면 리스트의 원소인 열을 모두 선택하여 데이터프레임으로 반환한다. \n",
    "리스트의 원소로 열 이름 한 개만 있는 경우에도, 2중 대괄호([[ ]])를 사용하는 것이 되어 반환되는 객체가 시리즈가 아니라 데이터프레임이 된다.\n",
    "`**"
   ]
  },
  {
   "cell_type": "code",
   "execution_count": 42,
   "id": "9d0a78d8",
   "metadata": {},
   "outputs": [
    {
     "name": "stdout",
     "output_type": "stream",
     "text": [
      "    음악   체육\n",
      "0   85  100\n",
      "1   95   90\n",
      "2  100   90\n",
      "<class 'pandas.core.frame.DataFrame'>\n"
     ]
    }
   ],
   "source": [
    "# '음악', '체육' 점수 데이터를 선택. 변수 music_gym에 저장\n",
    "music_gym = df[['음악', '체육']]\n",
    "print(music_gym)\n",
    "print(type(music_gym))"
   ]
  },
  {
   "cell_type": "code",
   "execution_count": 43,
   "id": "b3a7dcd8",
   "metadata": {},
   "outputs": [
    {
     "name": "stdout",
     "output_type": "stream",
     "text": [
      "   수학\n",
      "0  90\n",
      "1  80\n",
      "2  70\n",
      "<class 'pandas.core.frame.DataFrame'>\n"
     ]
    }
   ],
   "source": [
    "# '수학' 점수 데이터만 선택. 변수 math2에 저장\n",
    "math2 = df[['수학']]\n",
    "print(math2)\n",
    "print(type(math2))"
   ]
  },
  {
   "cell_type": "markdown",
   "id": "0b9868ea",
   "metadata": {},
   "source": [
    "### 1-11 원소 선택\n",
    "#### ① 1개의 원소를 선택"
   ]
  },
  {
   "cell_type": "code",
   "execution_count": 44,
   "id": "f1064af6",
   "metadata": {},
   "outputs": [
    {
     "name": "stdout",
     "output_type": "stream",
     "text": [
      "   이름  수학  영어   음악   체육\n",
      "0  지성  90  98   85  100\n",
      "1  다은  80  89   95   90\n",
      "2  뽀송  70  95  100   90\n"
     ]
    }
   ],
   "source": [
    "# DataFrame() 함수로 데이터프레임 변환, 변수 df에 저장\n",
    "exam_data = {'이름' : ['지성', '다은', '뽀송'],\n",
    "             '수학' : [ 90, 80, 70 ],\n",
    "             '영어' : [ 98, 89, 95 ],\n",
    "             '음악' : [ 85, 95, 100 ],\n",
    "             '체육' : [ 100, 90, 90 ]}\n",
    "df = pd.DataFrame(exam_data)\n",
    "\n",
    "print(df)"
   ]
  },
  {
   "cell_type": "code",
   "execution_count": 45,
   "id": "13cc4748",
   "metadata": {},
   "outputs": [
    {
     "data": {
      "text/html": [
       "<div>\n",
       "<style scoped>\n",
       "    .dataframe tbody tr th:only-of-type {\n",
       "        vertical-align: middle;\n",
       "    }\n",
       "\n",
       "    .dataframe tbody tr th {\n",
       "        vertical-align: top;\n",
       "    }\n",
       "\n",
       "    .dataframe thead th {\n",
       "        text-align: right;\n",
       "    }\n",
       "</style>\n",
       "<table border=\"1\" class=\"dataframe\">\n",
       "  <thead>\n",
       "    <tr style=\"text-align: right;\">\n",
       "      <th></th>\n",
       "      <th>수학</th>\n",
       "      <th>영어</th>\n",
       "      <th>음악</th>\n",
       "      <th>체육</th>\n",
       "    </tr>\n",
       "    <tr>\n",
       "      <th>이름</th>\n",
       "      <th></th>\n",
       "      <th></th>\n",
       "      <th></th>\n",
       "      <th></th>\n",
       "    </tr>\n",
       "  </thead>\n",
       "  <tbody>\n",
       "    <tr>\n",
       "      <th>지성</th>\n",
       "      <td>90</td>\n",
       "      <td>98</td>\n",
       "      <td>85</td>\n",
       "      <td>100</td>\n",
       "    </tr>\n",
       "    <tr>\n",
       "      <th>다은</th>\n",
       "      <td>80</td>\n",
       "      <td>89</td>\n",
       "      <td>95</td>\n",
       "      <td>90</td>\n",
       "    </tr>\n",
       "    <tr>\n",
       "      <th>뽀송</th>\n",
       "      <td>70</td>\n",
       "      <td>95</td>\n",
       "      <td>100</td>\n",
       "      <td>90</td>\n",
       "    </tr>\n",
       "  </tbody>\n",
       "</table>\n",
       "</div>"
      ],
      "text/plain": [
       "    수학  영어   음악   체육\n",
       "이름                  \n",
       "지성  90  98   85  100\n",
       "다은  80  89   95   90\n",
       "뽀송  70  95  100   90"
      ]
     },
     "execution_count": 45,
     "metadata": {},
     "output_type": "execute_result"
    }
   ],
   "source": [
    "df.set_index('이름')"
   ]
  },
  {
   "cell_type": "code",
   "execution_count": 46,
   "id": "af219244",
   "metadata": {},
   "outputs": [],
   "source": [
    "df.set_index('이름', inplace=True)"
   ]
  },
  {
   "cell_type": "code",
   "execution_count": 105,
   "id": "f4485dbd",
   "metadata": {},
   "outputs": [
    {
     "name": "stdout",
     "output_type": "stream",
     "text": [
      "    수학  영어   음악   체육\n",
      "이름                  \n",
      "지성  90  98   85  100\n",
      "다은  80  89   95   90\n",
      "뽀송  70  95  100   90\n"
     ]
    }
   ],
   "source": [
    "print(df)"
   ]
  },
  {
   "cell_type": "code",
   "execution_count": 106,
   "id": "c3c78bb4",
   "metadata": {},
   "outputs": [
    {
     "name": "stdout",
     "output_type": "stream",
     "text": [
      "85\n",
      "85\n"
     ]
    }
   ],
   "source": [
    "# 데이터프레임 df의 특정 원소 1개 선택('지성'의 '음악' 점수)\n",
    "a = df.loc['지성', '음악']\n",
    "print(a)\n",
    "b = df.iloc[0, 2]\n",
    "print(b)"
   ]
  },
  {
   "cell_type": "markdown",
   "id": "574173bd",
   "metadata": {},
   "source": [
    "#### ② 2개 이상의 원소를 선택(시리즈)"
   ]
  },
  {
   "cell_type": "code",
   "execution_count": 107,
   "id": "78f624e5",
   "metadata": {},
   "outputs": [
    {
     "name": "stdout",
     "output_type": "stream",
     "text": [
      "음악     85\n",
      "체육    100\n",
      "Name: 지성, dtype: int64\n",
      "음악     85\n",
      "체육    100\n",
      "Name: 지성, dtype: int64\n",
      "음악     85\n",
      "체육    100\n",
      "Name: 지성, dtype: int64\n",
      "음악     85\n",
      "체육    100\n",
      "Name: 지성, dtype: int64\n",
      "<class 'pandas.core.series.Series'>\n"
     ]
    }
   ],
   "source": [
    "# 데이터프레임 df의 특정 원소 2개 이상 선택('지성'의 '음악', '체육' 점수)\n",
    "c = df.loc['지성', ['음악', '체육']]\n",
    "print(c)\n",
    "d = df.iloc[0, [2, 3]]\n",
    "print(d)\n",
    "e = df.loc['지성', '음악':'체육']\n",
    "print(e)\n",
    "f = df.iloc[0, 2:]\n",
    "print(f)\n",
    "print(type(f))"
   ]
  },
  {
   "cell_type": "markdown",
   "id": "57ab1769",
   "metadata": {},
   "source": [
    "#### ③ 2개 이상의 원소를 선택(데이터프레임)"
   ]
  },
  {
   "cell_type": "code",
   "execution_count": 112,
   "id": "f30c2da2",
   "metadata": {},
   "outputs": [
    {
     "name": "stdout",
     "output_type": "stream",
     "text": [
      "    음악   체육\n",
      "이름         \n",
      "지성  85  100\n",
      "다은  95   90\n",
      "    음악   체육\n",
      "이름         \n",
      "지성  85  100\n",
      "다은  95   90\n",
      "    음악   체육\n",
      "이름         \n",
      "지성  85  100\n",
      "다은  95   90\n",
      "    음악   체육\n",
      "이름         \n",
      "지성  85  100\n",
      "다은  95   90\n",
      "<class 'pandas.core.frame.DataFrame'>\n"
     ]
    }
   ],
   "source": [
    "# df의 2개 이상의 행과 열로부터 원소 선택 ('지성', '다은'의 '음악', '체육' 점수)\n",
    "g = df.loc[['지성', '다은'], ['음악', '체육']]\n",
    "print(g)\n",
    "h = df.iloc[[0, 1], [2, 3]]\n",
    "print(h)\n",
    "i = df.loc['지성':'다은', '음악':'체육']\n",
    "print(i)\n",
    "j = df.iloc[0:2, 2:]\n",
    "print(j)\n",
    "print(type(j))"
   ]
  },
  {
   "cell_type": "markdown",
   "id": "339a3d45",
   "metadata": {},
   "source": [
    "### 1-12 열 추가\n",
    "**`\n",
    "다음 예제에서‘국어’열을 새로 추가하는데, 모든 학생들의 국어 점수가 동일하게 80점으로 입력되는 과정을 보여준다.\n",
    "`**"
   ]
  },
  {
   "cell_type": "code",
   "execution_count": 113,
   "id": "fb3cf900",
   "metadata": {},
   "outputs": [
    {
     "name": "stdout",
     "output_type": "stream",
     "text": [
      "    수학  영어   음악   체육  국어\n",
      "이름                      \n",
      "지성  90  98   85  100  80\n",
      "다은  80  89   95   90  80\n",
      "뽀송  70  95  100   90  80\n"
     ]
    }
   ],
   "source": [
    "# 데이터프레임 df에 '국어' 점수 열(column) 추가. 데이터 값은 80 지정\n",
    "df['국어'] = 80\n",
    "print(df)"
   ]
  },
  {
   "cell_type": "markdown",
   "id": "727a29e8",
   "metadata": {},
   "source": [
    "### 1-13 행 추가"
   ]
  },
  {
   "cell_type": "code",
   "execution_count": 114,
   "id": "7a481997",
   "metadata": {},
   "outputs": [
    {
     "name": "stdout",
     "output_type": "stream",
     "text": [
      "   이름  수학  영어   음악   체육\n",
      "0  지성  90  98   85  100\n",
      "1  다은  80  89   95   90\n",
      "2  뽀송  70  95  100   90\n"
     ]
    }
   ],
   "source": [
    "# DataFrame() 함수로 데이터프레임 변환, 변수 df에 저장\n",
    "exam_data = {'이름' : ['지성', '다은', '뽀송'],\n",
    "             '수학' : [ 90, 80, 70 ],\n",
    "             '영어' : [ 98, 89, 95 ],\n",
    "             '음악' : [ 85, 95, 100 ],\n",
    "             '체육' : [ 100, 90, 90 ]}\n",
    "df = pd.DataFrame(exam_data)\n",
    "\n",
    "print(df)"
   ]
  },
  {
   "cell_type": "code",
   "execution_count": 115,
   "id": "4050cb37",
   "metadata": {},
   "outputs": [
    {
     "name": "stdout",
     "output_type": "stream",
     "text": [
      "   이름  수학  영어   음악   체육\n",
      "0  지성  90  98   85  100\n",
      "1  다은  80  89   95   90\n",
      "2  뽀송  70  95  100   90\n",
      "3   0   0   0    0    0\n"
     ]
    }
   ],
   "source": [
    "# 새로운 행(row) 추가 - 같은 원소 값 입력\n",
    "df.loc[3] = 0\n",
    "print(df)"
   ]
  },
  {
   "cell_type": "code",
   "execution_count": 116,
   "id": "9b173965",
   "metadata": {},
   "outputs": [
    {
     "name": "stdout",
     "output_type": "stream",
     "text": [
      "    이름  수학  영어   음악   체육\n",
      "0   지성  90  98   85  100\n",
      "1   다은  80  89   95   90\n",
      "2   뽀송  70  95  100   90\n",
      "3    0   0   0    0    0\n",
      "4  사랑별  90  80   70   60\n"
     ]
    }
   ],
   "source": [
    "# 새로운 행(row) 추가 - 원소 값 여러 개의 배열 입력\n",
    "df.loc[4] = ['사랑별', 90, 80, 70, 60]\n",
    "print(df)"
   ]
  },
  {
   "cell_type": "code",
   "execution_count": 117,
   "id": "3102b942",
   "metadata": {},
   "outputs": [
    {
     "name": "stdout",
     "output_type": "stream",
     "text": [
      "     이름  수학  영어   음악   체육\n",
      "0    지성  90  98   85  100\n",
      "1    다은  80  89   95   90\n",
      "2    뽀송  70  95  100   90\n",
      "3     0   0   0    0    0\n",
      "4   사랑별  90  80   70   60\n",
      "행5    0   0   0    0    0\n"
     ]
    }
   ],
   "source": [
    "# 새로은 행(row) 추가 - 기존 행 복사\n",
    "df.loc['행5'] = df.loc[3]\n",
    "print(df)"
   ]
  },
  {
   "cell_type": "markdown",
   "id": "8beccf94",
   "metadata": {},
   "source": [
    "### 1-14 원소 값 변경\n",
    "#### ① 1개의 원소를 변경\n",
    "**`\n",
    "'지성' 학생의 '체육' 점수를 선택하는 여러 방법을 시도한다.\n",
    "각 방법을 비교하기 위해, 각기 다른 점수를 새로운 값으로 입력하여 원소를 변경하였다. (변경된 값을 원으로 표시)\n",
    "`**"
   ]
  },
  {
   "cell_type": "code",
   "execution_count": 118,
   "id": "873f0127",
   "metadata": {},
   "outputs": [
    {
     "name": "stdout",
     "output_type": "stream",
     "text": [
      "   이름  수학  영어   음악   체육\n",
      "0  지성  90  98   85  100\n",
      "1  다은  80  89   95   90\n",
      "2  뽀송  70  95  100   90\n"
     ]
    }
   ],
   "source": [
    "# DataFrame() 함수로 데이터프레임 변환, 변수 df에 저장\n",
    "exam_data = {'이름' : ['지성', '다은', '뽀송'],\n",
    "             '수학' : [ 90, 80, 70 ],\n",
    "             '영어' : [ 98, 89, 95 ],\n",
    "             '음악' : [ 85, 95, 100 ],\n",
    "             '체육' : [ 100, 90, 90 ]}\n",
    "df = pd.DataFrame(exam_data)\n",
    "\n",
    "print(df)"
   ]
  },
  {
   "cell_type": "code",
   "execution_count": 119,
   "id": "ab46ce09",
   "metadata": {},
   "outputs": [
    {
     "name": "stdout",
     "output_type": "stream",
     "text": [
      "    수학  영어   음악   체육\n",
      "이름                  \n",
      "지성  90  98   85  100\n",
      "다은  80  89   95   90\n",
      "뽀송  70  95  100   90\n"
     ]
    }
   ],
   "source": [
    "# '이름' 열을 새로운 인덱스로 지정하고, df 객체에 변경사항 반영\n",
    "df.set_index('이름', inplace=True)\n",
    "print(df)"
   ]
  },
  {
   "cell_type": "code",
   "execution_count": 120,
   "id": "3e0b0464",
   "metadata": {},
   "outputs": [
    {
     "name": "stdout",
     "output_type": "stream",
     "text": [
      "    수학  영어   음악  체육\n",
      "이름                 \n",
      "지성  90  98   85  80\n",
      "다은  80  89   95  90\n",
      "뽀송  70  95  100  90\n"
     ]
    }
   ],
   "source": [
    "# 데이터프레임 df의 특정 원소를 변경하는 방법: '지성'의 '체육' 정수\n",
    "df.iloc[0][3] = 80\n",
    "print(df)"
   ]
  },
  {
   "cell_type": "code",
   "execution_count": 121,
   "id": "c89ba12c",
   "metadata": {},
   "outputs": [
    {
     "name": "stdout",
     "output_type": "stream",
     "text": [
      "    수학  영어   음악  체육\n",
      "이름                 \n",
      "지성  90  98   85  90\n",
      "다은  80  89   95  90\n",
      "뽀송  70  95  100  90\n"
     ]
    }
   ],
   "source": [
    "df.loc['지성']['체육'] = 90\n",
    "print(df)"
   ]
  },
  {
   "cell_type": "code",
   "execution_count": 122,
   "id": "a42f92e6",
   "metadata": {},
   "outputs": [
    {
     "name": "stdout",
     "output_type": "stream",
     "text": [
      "    수학  영어   음악   체육\n",
      "이름                  \n",
      "지성  90  98   85  100\n",
      "다은  80  89   95   90\n",
      "뽀송  70  95  100   90\n"
     ]
    }
   ],
   "source": [
    "df.loc['지성', '체육'] = 100\n",
    "print(df)"
   ]
  },
  {
   "cell_type": "markdown",
   "id": "6a7dbf78",
   "metadata": {},
   "source": [
    "#### ② 1개 이상의 원소를 변경\n",
    "**`\n",
    "여러 개의 원소를 선택하여 새로운 값을 할당하면, 모든 원소를 한꺼번에 같은 값으로 변경 가능하다.\n",
    "선택한 원소의 개수에 맞춰 각기 다른 값을 배열 형태로 입력할 수도 있다.\n",
    "`**"
   ]
  },
  {
   "cell_type": "code",
   "execution_count": 123,
   "id": "a452affc",
   "metadata": {},
   "outputs": [
    {
     "name": "stdout",
     "output_type": "stream",
     "text": [
      "    수학  영어   음악  체육\n",
      "이름                 \n",
      "지성  90  98   50  50\n",
      "다은  80  89   95  90\n",
      "뽀송  70  95  100  90\n"
     ]
    }
   ],
   "source": [
    "# 데이터프레임 df의 원소 여러 개를 변경하는 방법: '지성'의 '음악', '체육' 점수\n",
    "df.loc['지성', ['음악', '체육']] = 50\n",
    "print(df)"
   ]
  },
  {
   "cell_type": "code",
   "execution_count": 124,
   "id": "5382146e",
   "metadata": {},
   "outputs": [
    {
     "name": "stdout",
     "output_type": "stream",
     "text": [
      "    수학  영어   음악  체육\n",
      "이름                 \n",
      "지성  90  98  100  50\n",
      "다은  80  89   95  90\n",
      "뽀송  70  95  100  90\n"
     ]
    }
   ],
   "source": [
    "df.loc['지성', ['음악', '체육']] = 100, 50\n",
    "print(df)"
   ]
  },
  {
   "cell_type": "markdown",
   "id": "db388535",
   "metadata": {},
   "source": [
    "### 1-15 행, 열의 위치 바꾸기"
   ]
  },
  {
   "cell_type": "code",
   "execution_count": 125,
   "id": "25ba8cb4",
   "metadata": {},
   "outputs": [
    {
     "name": "stdout",
     "output_type": "stream",
     "text": [
      "이름   지성  다은   뽀송\n",
      "수학   90  80   70\n",
      "영어   98  89   95\n",
      "음악  100  95  100\n",
      "체육   50  90   90\n"
     ]
    }
   ],
   "source": [
    "# 데이터프레임 df을 전치하기(메소드 활용)\n",
    "df = df.transpose()\n",
    "print(df)"
   ]
  },
  {
   "cell_type": "code",
   "execution_count": 126,
   "id": "bcc094e0",
   "metadata": {},
   "outputs": [
    {
     "name": "stdout",
     "output_type": "stream",
     "text": [
      "    수학  영어   음악  체육\n",
      "이름                 \n",
      "지성  90  98  100  50\n",
      "다은  80  89   95  90\n",
      "뽀송  70  95  100  90\n"
     ]
    }
   ],
   "source": [
    "# 데이터프레임 df를 다시 전치하기(클래스 속성 활용)\n",
    "df = df.T\n",
    "print(df)"
   ]
  }
 ],
 "metadata": {
  "kernelspec": {
   "display_name": "Python 3 (ipykernel)",
   "language": "python",
   "name": "python3"
  },
  "language_info": {
   "codemirror_mode": {
    "name": "ipython",
    "version": 3
   },
   "file_extension": ".py",
   "mimetype": "text/x-python",
   "name": "python",
   "nbconvert_exporter": "python",
   "pygments_lexer": "ipython3",
   "version": "3.9.7"
  },
  "toc": {
   "base_numbering": 1,
   "nav_menu": {},
   "number_sections": true,
   "sideBar": true,
   "skip_h1_title": false,
   "title_cell": "Table of Contents",
   "title_sidebar": "Contents",
   "toc_cell": false,
   "toc_position": {},
   "toc_section_display": true,
   "toc_window_display": true
  },
  "varInspector": {
   "cols": {
    "lenName": 16,
    "lenType": 16,
    "lenVar": 40
   },
   "kernels_config": {
    "python": {
     "delete_cmd_postfix": "",
     "delete_cmd_prefix": "del ",
     "library": "var_list.py",
     "varRefreshCmd": "print(var_dic_list())"
    },
    "r": {
     "delete_cmd_postfix": ") ",
     "delete_cmd_prefix": "rm(",
     "library": "var_list.r",
     "varRefreshCmd": "cat(var_dic_list()) "
    }
   },
   "oldHeight": 88.778364,
   "position": {
    "height": "110.753px",
    "left": "1009.38px",
    "right": "20px",
    "top": "147.952px",
    "width": "371.009px"
   },
   "types_to_exclude": [
    "module",
    "function",
    "builtin_function_or_method",
    "instance",
    "_Feature"
   ],
   "varInspector_section_display": "block",
   "window_display": true
  }
 },
 "nbformat": 4,
 "nbformat_minor": 5
}
